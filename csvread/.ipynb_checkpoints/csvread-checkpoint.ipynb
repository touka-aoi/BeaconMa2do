{
 "cells": [
  {
   "cell_type": "code",
   "execution_count": 1,
   "id": "cf544f74-22bd-4129-a52a-5775b7f77ae3",
   "metadata": {},
   "outputs": [],
   "source": [
    "import numpy as np\n",
    "import matplotlib.pyplot as plt\n",
    "import pandas as pd"
   ]
  },
  {
   "cell_type": "code",
   "execution_count": 3,
   "id": "ad68a4f2-dae8-4cd5-9434-9c5cf7c3d4d0",
   "metadata": {},
   "outputs": [
    {
     "data": {
      "text/html": [
       "<div>\n",
       "<style scoped>\n",
       "    .dataframe tbody tr th:only-of-type {\n",
       "        vertical-align: middle;\n",
       "    }\n",
       "\n",
       "    .dataframe tbody tr th {\n",
       "        vertical-align: top;\n",
       "    }\n",
       "\n",
       "    .dataframe thead th {\n",
       "        text-align: right;\n",
       "    }\n",
       "</style>\n",
       "<table border=\"1\" class=\"dataframe\">\n",
       "  <thead>\n",
       "    <tr style=\"text-align: right;\">\n",
       "      <th></th>\n",
       "      <th>sentral</th>\n",
       "      <th>beacon</th>\n",
       "      <th>rssi</th>\n",
       "      <th>distance</th>\n",
       "    </tr>\n",
       "  </thead>\n",
       "  <tbody>\n",
       "    <tr>\n",
       "      <th>count</th>\n",
       "      <td>278035.000000</td>\n",
       "      <td>278035.000000</td>\n",
       "      <td>278035.000000</td>\n",
       "      <td>278035.000000</td>\n",
       "    </tr>\n",
       "    <tr>\n",
       "      <th>mean</th>\n",
       "      <td>1.998734</td>\n",
       "      <td>1034.587969</td>\n",
       "      <td>-79.334364</td>\n",
       "      <td>1.570787</td>\n",
       "    </tr>\n",
       "    <tr>\n",
       "      <th>std</th>\n",
       "      <td>0.809217</td>\n",
       "      <td>14.122307</td>\n",
       "      <td>9.244595</td>\n",
       "      <td>0.836076</td>\n",
       "    </tr>\n",
       "    <tr>\n",
       "      <th>min</th>\n",
       "      <td>1.000000</td>\n",
       "      <td>1002.000000</td>\n",
       "      <td>-106.000000</td>\n",
       "      <td>0.005247</td>\n",
       "    </tr>\n",
       "    <tr>\n",
       "      <th>25%</th>\n",
       "      <td>1.000000</td>\n",
       "      <td>1028.000000</td>\n",
       "      <td>-86.000000</td>\n",
       "      <td>1.060459</td>\n",
       "    </tr>\n",
       "    <tr>\n",
       "      <th>50%</th>\n",
       "      <td>2.000000</td>\n",
       "      <td>1035.000000</td>\n",
       "      <td>-80.000000</td>\n",
       "      <td>1.473337</td>\n",
       "    </tr>\n",
       "    <tr>\n",
       "      <th>75%</th>\n",
       "      <td>3.000000</td>\n",
       "      <td>1048.000000</td>\n",
       "      <td>-74.000000</td>\n",
       "      <td>2.019653</td>\n",
       "    </tr>\n",
       "    <tr>\n",
       "      <th>max</th>\n",
       "      <td>3.000000</td>\n",
       "      <td>1050.000000</td>\n",
       "      <td>-41.000000</td>\n",
       "      <td>7.364238</td>\n",
       "    </tr>\n",
       "  </tbody>\n",
       "</table>\n",
       "</div>"
      ],
      "text/plain": [
       "             sentral         beacon           rssi       distance\n",
       "count  278035.000000  278035.000000  278035.000000  278035.000000\n",
       "mean        1.998734    1034.587969     -79.334364       1.570787\n",
       "std         0.809217      14.122307       9.244595       0.836076\n",
       "min         1.000000    1002.000000    -106.000000       0.005247\n",
       "25%         1.000000    1028.000000     -86.000000       1.060459\n",
       "50%         2.000000    1035.000000     -80.000000       1.473337\n",
       "75%         3.000000    1048.000000     -74.000000       2.019653\n",
       "max         3.000000    1050.000000     -41.000000       7.364238"
      ]
     },
     "execution_count": 3,
     "metadata": {},
     "output_type": "execute_result"
    }
   ],
   "source": [
    "data_path = \"output.csv\"\n",
    "data = pd.read_csv(data_path)\n",
    "data.describe()"
   ]
  },
  {
   "cell_type": "code",
   "execution_count": 9,
   "id": "f836b78c-8cb4-4905-ac9b-5a4829c20dfe",
   "metadata": {},
   "outputs": [
    {
     "data": {
      "text/html": [
       "<div>\n",
       "<style scoped>\n",
       "    .dataframe tbody tr th:only-of-type {\n",
       "        vertical-align: middle;\n",
       "    }\n",
       "\n",
       "    .dataframe tbody tr th {\n",
       "        vertical-align: top;\n",
       "    }\n",
       "\n",
       "    .dataframe thead th {\n",
       "        text-align: right;\n",
       "    }\n",
       "</style>\n",
       "<table border=\"1\" class=\"dataframe\">\n",
       "  <thead>\n",
       "    <tr style=\"text-align: right;\">\n",
       "      <th></th>\n",
       "      <th>sentral</th>\n",
       "      <th>beacon</th>\n",
       "      <th>rssi</th>\n",
       "      <th>distance</th>\n",
       "      <th>ymdt</th>\n",
       "    </tr>\n",
       "  </thead>\n",
       "  <tbody>\n",
       "    <tr>\n",
       "      <th>0</th>\n",
       "      <td>3</td>\n",
       "      <td>1028</td>\n",
       "      <td>-78</td>\n",
       "      <td>1.358874</td>\n",
       "      <td>2021-10-14 23:15:40.475862</td>\n",
       "    </tr>\n",
       "    <tr>\n",
       "      <th>1</th>\n",
       "      <td>3</td>\n",
       "      <td>1048</td>\n",
       "      <td>-78</td>\n",
       "      <td>1.358874</td>\n",
       "      <td>2021-10-14 23:15:40.498866</td>\n",
       "    </tr>\n",
       "    <tr>\n",
       "      <th>2</th>\n",
       "      <td>3</td>\n",
       "      <td>1050</td>\n",
       "      <td>-74</td>\n",
       "      <td>1.111073</td>\n",
       "      <td>2021-10-14 23:15:40.504867</td>\n",
       "    </tr>\n",
       "    <tr>\n",
       "      <th>3</th>\n",
       "      <td>3</td>\n",
       "      <td>1031</td>\n",
       "      <td>-80</td>\n",
       "      <td>1.514449</td>\n",
       "      <td>2021-10-14 23:15:40.510865</td>\n",
       "    </tr>\n",
       "    <tr>\n",
       "      <th>4</th>\n",
       "      <td>2</td>\n",
       "      <td>1048</td>\n",
       "      <td>-57</td>\n",
       "      <td>0.121365</td>\n",
       "      <td>2021-10-14 23:15:40.541862</td>\n",
       "    </tr>\n",
       "  </tbody>\n",
       "</table>\n",
       "</div>"
      ],
      "text/plain": [
       "   sentral  beacon  rssi  distance                        ymdt\n",
       "0        3    1028   -78  1.358874  2021-10-14 23:15:40.475862\n",
       "1        3    1048   -78  1.358874  2021-10-14 23:15:40.498866\n",
       "2        3    1050   -74  1.111073  2021-10-14 23:15:40.504867\n",
       "3        3    1031   -80  1.514449  2021-10-14 23:15:40.510865\n",
       "4        2    1048   -57  0.121365  2021-10-14 23:15:40.541862"
      ]
     },
     "execution_count": 9,
     "metadata": {},
     "output_type": "execute_result"
    }
   ],
   "source": [
    "data.head()"
   ]
  },
  {
   "cell_type": "code",
   "execution_count": 6,
   "id": "6cdc2f85-ae24-4a7d-b471-07c32850ed07",
   "metadata": {},
   "outputs": [],
   "source": [
    "from pandas_profiling import ProfileReport"
   ]
  },
  {
   "cell_type": "code",
   "execution_count": 8,
   "id": "266028fb-8141-4a48-b1bc-59d41f29030f",
   "metadata": {},
   "outputs": [
    {
     "data": {
      "application/vnd.jupyter.widget-view+json": {
       "model_id": "cca138cfc5574d9a96f4a3182cf72b4c",
       "version_major": 2,
       "version_minor": 0
      },
      "text/plain": [
       "Tab(children=(HTML(value='<div id=\"overview-content\" class=\"row variable spacing\">\\n    <div class=\"row\">\\n   …"
      ]
     },
     "metadata": {},
     "output_type": "display_data"
    },
    {
     "data": {
      "text/html": [
       "Report generated with <a href=\"https://github.com/pandas-profiling/pandas-profiling\">pandas-profiling</a>."
      ],
      "text/plain": [
       "<IPython.core.display.HTML object>"
      ]
     },
     "metadata": {},
     "output_type": "display_data"
    },
    {
     "data": {
      "text/plain": []
     },
     "execution_count": 8,
     "metadata": {},
     "output_type": "execute_result"
    }
   ],
   "source": [
    "profile = ProfileReport(data)\n",
    "profile"
   ]
  },
  {
   "cell_type": "code",
   "execution_count": null,
   "id": "387dc9fb-13df-41d1-9e8a-06b65232121f",
   "metadata": {},
   "outputs": [],
   "source": []
  }
 ],
 "metadata": {
  "kernelspec": {
   "display_name": "Python 3 (ipykernel)",
   "language": "python",
   "name": "python3"
  },
  "language_info": {
   "codemirror_mode": {
    "name": "ipython",
    "version": 3
   },
   "file_extension": ".py",
   "mimetype": "text/x-python",
   "name": "python",
   "nbconvert_exporter": "python",
   "pygments_lexer": "ipython3",
   "version": "3.8.12"
  }
 },
 "nbformat": 4,
 "nbformat_minor": 5
}
